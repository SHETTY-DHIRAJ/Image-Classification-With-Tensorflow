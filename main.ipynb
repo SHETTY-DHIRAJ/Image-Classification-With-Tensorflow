{
 "cells": [
  {
   "cell_type": "markdown",
   "id": "06c11b0f",
   "metadata": {},
   "source": [
    "# Task 1: Introduction\n",
    "\n",
    "We aim to build and train a model that takes a handwritten digit image as input and predicts its corresponding class label (i.e., the digit itself).\n",
    "\n",
    "![Hand Written Digits Classification](Images/1_1.png)"
   ]
  },
  {
   "cell_type": "code",
   "execution_count": 1,
   "id": "602a82d5",
   "metadata": {},
   "outputs": [
    {
     "name": "stdout",
     "output_type": "stream",
     "text": [
      "Using TensorFlow version 2.19.0\n"
     ]
    }
   ],
   "source": [
    "import tensorflow as tf\n",
    "\n",
    "#tf.logging.set_verbosity(tf.logging.ERROR)\n",
    "print('Using TensorFlow version', tf.__version__)"
   ]
  },
  {
   "cell_type": "markdown",
   "id": "7ad4102e",
   "metadata": {},
   "source": [
    "# Task 2: The Dataset\n",
    "### Import MNIST"
   ]
  },
  {
   "cell_type": "code",
   "execution_count": 2,
   "id": "c515eddc",
   "metadata": {},
   "outputs": [],
   "source": [
    "from tensorflow.keras.datasets import mnist\n",
    "\n",
    "# Load MNIST dataset\n",
    "# The dataset is split into training and testing sets\n",
    "(x_train, y_train), (x_test, y_test) = mnist.load_data()"
   ]
  },
  {
   "cell_type": "markdown",
   "id": "7c2a2ed5",
   "metadata": {},
   "source": [
    "### Shape of the imported data"
   ]
  },
  {
   "cell_type": "code",
   "execution_count": 3,
   "id": "e22a6ca5",
   "metadata": {},
   "outputs": [
    {
     "name": "stdout",
     "output_type": "stream",
     "text": [
      "Training data shape: (60000, 28, 28) (60000,)\n",
      "Testing data shape: (10000, 28, 28) (10000,)\n"
     ]
    }
   ],
   "source": [
    "print('Training data shape:', x_train.shape, y_train.shape)\n",
    "print('Testing data shape:', x_test.shape, y_test.shape)"
   ]
  },
  {
   "cell_type": "markdown",
   "id": "d864bb97",
   "metadata": {},
   "source": [
    "### Plotting the Image Examples"
   ]
  },
  {
   "cell_type": "code",
   "execution_count": 4,
   "id": "0e2d2982",
   "metadata": {},
   "outputs": [
    {
     "data": {
      "image/png": "[encoded data removed]",
      "text/plain": [
       "<Figure size 640x480 with 2 Axes>"
      ]
     },
     "metadata": {},
     "output_type": "display_data"
    }
   ],
   "source": [
    "from matplotlib import pyplot as plt\n",
    "%matplotlib inline\n",
    "\n",
    "# Display the first images in the training set\n",
    "plt.imshow(x_train[0], cmap='binary') # Using binary colormap for better visibility\n",
    "plt.title(f'Label: {y_train[0]}') # Displaying the label of the first image\n",
    "plt.colorbar() # Adding a color bar to indicate pixel values\n",
    "plt.axis('off') # Hiding the axes\n",
    "plt.show()"
   ]
  },
  {
   "cell_type": "markdown",
   "id": "4720e7fd",
   "metadata": {},
   "source": [
    "### Display Labels"
   ]
  },
  {
   "cell_type": "code",
   "execution_count": 5,
   "id": "acad122e",
   "metadata": {},
   "outputs": [
    {
     "name": "stdout",
     "output_type": "stream",
     "text": [
      "5\n"
     ]
    }
   ],
   "source": [
    "print(y_train[0]) # Display the label of the first image"
   ]
  },
  {
   "cell_type": "markdown",
   "id": "22768e96",
   "metadata": {},
   "source": [
    "# Task 3: One Hot Encoding\n",
    "After encoding, each label is transformed into a 10-element list (one-hot encoded), where the index corresponding to the digit class is set to 1, and all other positions are 0.:\n",
    "\n",
    "| original label | one-hot encoded label |\n",
    "|------|------|\n",
    "| 5 | [0, 0, 0, 0, 0, 1, 0, 0, 0, 0] |\n",
    "| 7 | [0, 0, 0, 0, 0, 0, 0, 1, 0, 0] |\n",
    "| 1 | [0, 1, 0, 0, 0, 0, 0, 0, 0, 0] |\n",
    "\n",
    "### Encoding Labels"
   ]
  },
  {
   "cell_type": "code",
   "execution_count": 6,
   "id": "1944d65d",
   "metadata": {},
   "outputs": [],
   "source": [
    "from tensorflow.keras.utils import to_categorical\n",
    "\n",
    "# Convert labels to one-hot encoding\n",
    "y_train_encoded = to_categorical(y_train, num_classes=10)\n",
    "y_test_encoded = to_categorical(y_test, num_classes=10)"
   ]
  },
  {
   "cell_type": "markdown",
   "id": "00550889",
   "metadata": {},
   "source": [
    "### Validated Shapes"
   ]
  },
  {
   "cell_type": "code",
   "execution_count": 7,
   "id": "fdeb6ceb",
   "metadata": {},
   "outputs": [
    {
     "name": "stdout",
     "output_type": "stream",
     "text": [
      "y_train encoded shape: (60000, 10)\n",
      "y_test encoded shape: (10000, 10)\n"
     ]
    }
   ],
   "source": [
    "print('y_train encoded shape:', y_train_encoded.shape)\n",
    "print('y_test encoded shape:', y_test_encoded.shape)"
   ]
  },
  {
   "cell_type": "markdown",
   "id": "772b0906",
   "metadata": {},
   "source": [
    "### Display Encoded Lables"
   ]
  },
  {
   "cell_type": "code",
   "execution_count": 8,
   "id": "d7c3c308",
   "metadata": {},
   "outputs": [
    {
     "name": "stdout",
     "output_type": "stream",
     "text": [
      "[0. 0. 0. 0. 0. 1. 0. 0. 0. 0.]\n"
     ]
    }
   ],
   "source": [
    "print(y_train_encoded[0]) # Display the one-hot encoded label of the first image"
   ]
  },
  {
   "cell_type": "markdown",
   "id": "4bfaeecb",
   "metadata": {},
   "source": [
    "# Task 4: Preprocessing the Examples\n",
    "\n",
    "### Unrolling N-dimensional Arrays to Vectors|"
   ]
  },
  {
   "cell_type": "code",
   "execution_count": 9,
   "id": "e4acb031",
   "metadata": {},
   "outputs": [
    {
     "name": "stdout",
     "output_type": "stream",
     "text": [
      "x_train reshaped shape: (60000, 784)\n",
      "x_test reshaped shape: (10000, 784)\n"
     ]
    }
   ],
   "source": [
    "import numpy as np\n",
    "\n",
    "x_train_reshaped = np.reshape(x_train, (60000, 784)) # Reshape to (60000, 784)\n",
    "x_test_reshaped = np.reshape(x_test, (10000, 784)) # Reshape to (10000, 784)\n",
    "\n",
    "# Display the reshaped data shapes\n",
    "print('x_train reshaped shape:', x_train_reshaped.shape)\n",
    "print('x_test reshaped shape:', x_test_reshaped.shape)"
   ]
  },
  {
   "cell_type": "markdown",
   "id": "4b7ce92a",
   "metadata": {},
   "source": [
    "### Display Pixel Values"
   ]
  },
  {
   "cell_type": "code",
   "execution_count": 10,
   "id": "cdeb9ca3",
   "metadata": {},
   "outputs": [
    {
     "name": "stdout",
     "output_type": "stream",
     "text": [
      "{np.uint8(0), np.uint8(1), np.uint8(2), np.uint8(3), np.uint8(9), np.uint8(11), np.uint8(14), np.uint8(16), np.uint8(18), np.uint8(23), np.uint8(24), np.uint8(25), np.uint8(26), np.uint8(27), np.uint8(30), np.uint8(35), np.uint8(36), np.uint8(39), np.uint8(43), np.uint8(45), np.uint8(46), np.uint8(49), np.uint8(55), np.uint8(56), np.uint8(64), np.uint8(66), np.uint8(70), np.uint8(78), np.uint8(80), np.uint8(81), np.uint8(82), np.uint8(90), np.uint8(93), np.uint8(94), np.uint8(107), np.uint8(108), np.uint8(114), np.uint8(119), np.uint8(126), np.uint8(127), np.uint8(130), np.uint8(132), np.uint8(133), np.uint8(135), np.uint8(136), np.uint8(139), np.uint8(148), np.uint8(150), np.uint8(154), np.uint8(156), np.uint8(160), np.uint8(166), np.uint8(170), np.uint8(171), np.uint8(172), np.uint8(175), np.uint8(182), np.uint8(183), np.uint8(186), np.uint8(187), np.uint8(190), np.uint8(195), np.uint8(198), np.uint8(201), np.uint8(205), np.uint8(207), np.uint8(212), np.uint8(213), np.uint8(219), np.uint8(221), np.uint8(225), np.uint8(226), np.uint8(229), np.uint8(238), np.uint8(240), np.uint8(241), np.uint8(242), np.uint8(244), np.uint8(247), np.uint8(249), np.uint8(250), np.uint8(251), np.uint8(252), np.uint8(253), np.uint8(255)}\n",
      "{0, 1, 2, 3, 9, 11, 14, 16, 18, 23, 24, 25, 26, 27, 30, 35, 36, 39, 43, 45, 46, 49, 55, 56, 64, 66, 70, 78, 80, 81, 82, 90, 93, 94, 107, 108, 114, 119, 126, 127, 130, 132, 133, 135, 136, 139, 148, 150, 154, 156, 160, 166, 170, 171, 172, 175, 182, 183, 186, 187, 190, 195, 198, 201, 205, 207, 212, 213, 219, 221, 225, 226, 229, 238, 240, 241, 242, 244, 247, 249, 250, 251, 252, 253, 255}\n"
     ]
    }
   ],
   "source": [
    "print(set(x_train_reshaped[0])) # Display the unique pixel values of the first image\n",
    "print(set([int(x) for x in x_train_reshaped[0]])) # Display the unique pixel values of the first image as integers"
   ]
  },
  {
   "cell_type": "markdown",
   "id": "83eea260",
   "metadata": {},
   "source": [
    "### Data Normalization"
   ]
  },
  {
   "cell_type": "code",
   "execution_count": 11,
   "id": "f6008f5c",
   "metadata": {},
   "outputs": [],
   "source": [
    "x_mean = np.mean(x_train_reshaped) # Calculate the mean of the training data\n",
    "x_std = np.std(x_train_reshaped) # Calculate the standard deviation of the training data\n",
    "\n",
    "epsolon = 1e-10 # Small value to avoid division by zero\n",
    "\n",
    "# Normalize the training and testing data\n",
    "x_train_normalized = (x_train_reshaped - x_mean) / (x_std + epsolon) # Normalize the training data\n",
    "x_test_normalized = (x_test_reshaped - x_mean) / (x_std + epsolon) # Normalize the testing data"
   ]
  },
  {
   "cell_type": "markdown",
   "id": "f05b1f38",
   "metadata": {},
   "source": [
    "### Displaying Normalized Pixel Values"
   ]
  },
  {
   "cell_type": "code",
   "execution_count": 12,
   "id": "27a8ae48",
   "metadata": {},
   "outputs": [
    {
     "name": "stdout",
     "output_type": "stream",
     "text": [
      "{np.float64(-0.38589016215482896), np.float64(1.306921966983251), np.float64(1.17964285952926), np.float64(1.803310486053816), np.float64(1.6887592893452241), np.float64(2.8215433456857437), np.float64(2.719720059722551), np.float64(1.1923707702746593), np.float64(1.7396709323268205), np.float64(2.057868700961798), np.float64(2.3633385588513764), np.float64(2.096052433197995), np.float64(1.7651267538176187), np.float64(2.7960875241949457), np.float64(2.7451758812133495), np.float64(2.45243393406917), np.float64(0.02140298169794222), np.float64(-0.22042732246464067), np.float64(1.2305545025108566), np.float64(0.2759611966059242), np.float64(2.210603629906587), np.float64(2.6560805059955555), np.float64(2.6051688630139593), np.float64(-0.4240738943910262), np.float64(0.4668798577869107), np.float64(0.1486820891519332), np.float64(0.3905123933145161), np.float64(1.0905474843114664), np.float64(-0.09314821501064967), np.float64(1.4851127174188385), np.float64(2.7579037919587486), np.float64(1.5360243604004349), np.float64(0.07231462467953861), np.float64(-0.13133194724684696), np.float64(1.294194056237852), np.float64(0.03413089244334132), np.float64(1.3451056992194483), np.float64(2.274243183633583), np.float64(-0.24588314395543887), np.float64(0.772349715676489), np.float64(0.75962180493109), np.float64(0.7214380726948927), np.float64(0.1995937321335296), np.float64(-0.41134598364562713), np.float64(0.5687031437501034), np.float64(0.5941589652409017), np.float64(0.9378125553666773), np.float64(0.9505404661120763), np.float64(0.6068868759863008), np.float64(0.4159682148053143), np.float64(-0.042236572029053274), np.float64(2.7706317027041476), np.float64(2.1342361654341926), np.float64(0.12322626766113501), np.float64(-0.08042030426525057), np.float64(0.16140999989733232), np.float64(1.8924058612716097), np.float64(1.2560103240016547), np.float64(2.185147808415789), np.float64(0.6196147867316999), np.float64(1.943317504253206), np.float64(-0.11860403650144787), np.float64(-0.30952269768243434), np.float64(1.9942291472348024), np.float64(-0.2840668761916362), np.float64(2.6306246845047574), np.float64(2.286971094378982), np.float64(-0.19497150097384247), np.float64(-0.39861807290022805), np.float64(0.2886891073513233), np.float64(1.7523988430722195), np.float64(2.3887943803421745), np.float64(2.681536327486354), np.float64(1.4596568959280403), np.float64(2.439706023323771), np.float64(2.7833596134495466), np.float64(2.490617666305367), np.float64(-0.10587612575604877), np.float64(1.5614801818912332), np.float64(1.9051337720170087), np.float64(1.6123918248728295), np.float64(1.268738234747054), np.float64(1.9560454149986053), np.float64(2.6433525952501564), np.float64(1.026907930584471)}\n",
      "{-0.38589016215482896, 1.306921966983251, 1.17964285952926, 1.803310486053816, 1.6887592893452241, 2.8215433456857437, 2.719720059722551, 1.1923707702746593, 1.7396709323268205, 2.057868700961798, 2.3633385588513764, 2.096052433197995, 1.7651267538176187, 2.7960875241949457, 2.7451758812133495, 2.45243393406917, 0.02140298169794222, -0.22042732246464067, 1.2305545025108566, 0.2759611966059242, 2.210603629906587, 2.6560805059955555, 2.6051688630139593, -0.4240738943910262, 0.4668798577869107, 0.1486820891519332, 0.3905123933145161, 1.0905474843114664, -0.09314821501064967, 1.4851127174188385, 2.7579037919587486, 1.5360243604004349, 0.07231462467953861, -0.13133194724684696, 1.294194056237852, 0.03413089244334132, 1.3451056992194483, 2.274243183633583, -0.24588314395543887, 0.772349715676489, 0.75962180493109, 0.7214380726948927, 0.1995937321335296, -0.41134598364562713, 0.5687031437501034, 0.5941589652409017, 0.9378125553666773, 0.9505404661120763, 0.6068868759863008, 0.4159682148053143, -0.042236572029053274, 2.7706317027041476, 2.1342361654341926, 0.12322626766113501, -0.08042030426525057, 0.16140999989733232, 1.8924058612716097, 1.2560103240016547, 2.185147808415789, 0.6196147867316999, 1.943317504253206, -0.11860403650144787, -0.30952269768243434, 1.9942291472348024, -0.2840668761916362, 2.6306246845047574, 2.286971094378982, -0.19497150097384247, -0.39861807290022805, 0.2886891073513233, 1.7523988430722195, 2.3887943803421745, 2.681536327486354, 1.4596568959280403, 2.439706023323771, 2.7833596134495466, 2.490617666305367, -0.10587612575604877, 1.5614801818912332, 1.9051337720170087, 1.6123918248728295, 1.268738234747054, 1.9560454149986053, 2.6433525952501564, 1.026907930584471}\n"
     ]
    }
   ],
   "source": [
    "print(set(x_train_normalized[0])) # Display the unique pixel values of the first normalized image\n",
    "print(set([float(x) for x in x_train_normalized[0]])) # Display the unique pixel values of the first normalized image as floats"
   ]
  },
  {
   "cell_type": "markdown",
   "id": "0b5f8ee5",
   "metadata": {},
   "source": [
    "# Task 5: Creating a Model\n",
    "### Creating the Model"
   ]
  },
  {
   "cell_type": "code",
   "execution_count": 13,
   "id": "a2cd5454",
   "metadata": {},
   "outputs": [
    {
     "name": "stderr",
     "output_type": "stream",
     "text": [
      "f:\\GitHub_Codes\\Image-Classification-With-Tensorflow\\Image-Classification-With-Tensorflow\\venv\\lib\\site-packages\\keras\\src\\layers\\core\\dense.py:93: UserWarning: Do not pass an `input_shape`/`input_dim` argument to a layer. When using Sequential models, prefer using an `Input(shape)` object as the first layer in the model instead.\n",
      "  super().__init__(activity_regularizer=activity_regularizer, **kwargs)\n"
     ]
    }
   ],
   "source": [
    "from tensorflow.keras.models import Sequential\n",
    "from tensorflow.keras.layers import Dense\n",
    "\n",
    "# Create a Sequential model\n",
    "model = Sequential(\n",
    "    [\n",
    "        Dense(128, activation='relu', input_shape=(784,)), # Add a dense layer with 128 units and ReLU activation\n",
    "        Dense(128, activation='relu'), # Add another dense layer with 128 units and ReLU activation\n",
    "        Dense(10, activation='softmax') # Add an output layer with 10 units (for 10 classes) and softmax activation\n",
    "    ]\n",
    ")"
   ]
  },
  {
   "cell_type": "markdown",
   "id": "d3ee9572",
   "metadata": {},
   "source": [
    "### Compiling the Model & getting the Summary"
   ]
  },
  {
   "cell_type": "code",
   "execution_count": 14,
   "id": "9e6b6091",
   "metadata": {},
   "outputs": [
    {
     "data": {
      "text/html": [
       "<pre style=\"white-space:pre;overflow-x:auto;line-height:normal;font-family:Menlo,'DejaVu Sans Mono',consolas,'Courier New',monospace\"><span style=\"font-weight: bold\">Model: \"sequential\"</span>\n",
       "</pre>\n"
      ],
      "text/plain": [
       "\u001b[1mModel: \"sequential\"\u001b[0m\n"
      ]
     },
     "metadata": {},
     "output_type": "display_data"
    },
    {
     "data": {
      "text/html": [
       "<pre style=\"white-space:pre;overflow-x:auto;line-height:normal;font-family:Menlo,'DejaVu Sans Mono',consolas,'Courier New',monospace\">┏━━━━━━━━━━━━━━━━━━━━━━━━━━━━━━━━━┳━━━━━━━━━━━━━━━━━━━━━━━━┳━━━━━━━━━━━━━━━┓\n",
       "┃<span style=\"font-weight: bold\"> Layer (type)                    </span>┃<span style=\"font-weight: bold\"> Output Shape           </span>┃<span style=\"font-weight: bold\">       Param # </span>┃\n",
       "┡━━━━━━━━━━━━━━━━━━━━━━━━━━━━━━━━━╇━━━━━━━━━━━━━━━━━━━━━━━━╇━━━━━━━━━━━━━━━┩\n",
       "│ dense (<span style=\"color: #0087ff; text-decoration-color: #0087ff\">Dense</span>)                   │ (<span style=\"color: #00d7ff; text-decoration-color: #00d7ff\">None</span>, <span style=\"color: #00af00; text-decoration-color: #00af00\">128</span>)            │       <span style=\"color: #00af00; text-decoration-color: #00af00\">100,480</span> │\n",
       "├─────────────────────────────────┼────────────────────────┼───────────────┤\n",
       "│ dense_1 (<span style=\"color: #0087ff; text-decoration-color: #0087ff\">Dense</span>)                 │ (<span style=\"color: #00d7ff; text-decoration-color: #00d7ff\">None</span>, <span style=\"color: #00af00; text-decoration-color: #00af00\">128</span>)            │        <span style=\"color: #00af00; text-decoration-color: #00af00\">16,512</span> │\n",
       "├─────────────────────────────────┼────────────────────────┼───────────────┤\n",
       "│ dense_2 (<span style=\"color: #0087ff; text-decoration-color: #0087ff\">Dense</span>)                 │ (<span style=\"color: #00d7ff; text-decoration-color: #00d7ff\">None</span>, <span style=\"color: #00af00; text-decoration-color: #00af00\">10</span>)             │         <span style=\"color: #00af00; text-decoration-color: #00af00\">1,290</span> │\n",
       "└─────────────────────────────────┴────────────────────────┴───────────────┘\n",
       "</pre>\n"
      ],
      "text/plain": [
       "┏━━━━━━━━━━━━━━━━━━━━━━━━━━━━━━━━━┳━━━━━━━━━━━━━━━━━━━━━━━━┳━━━━━━━━━━━━━━━┓\n",
       "┃\u001b[1m \u001b[0m\u001b[1mLayer (type)                   \u001b[0m\u001b[1m \u001b[0m┃\u001b[1m \u001b[0m\u001b[1mOutput Shape          \u001b[0m\u001b[1m \u001b[0m┃\u001b[1m \u001b[0m\u001b[1m      Param #\u001b[0m\u001b[1m \u001b[0m┃\n",
       "┡━━━━━━━━━━━━━━━━━━━━━━━━━━━━━━━━━╇━━━━━━━━━━━━━━━━━━━━━━━━╇━━━━━━━━━━━━━━━┩\n",
       "│ dense (\u001b[38;5;33mDense\u001b[0m)                   │ (\u001b[38;5;45mNone\u001b[0m, \u001b[38;5;34m128\u001b[0m)            │       \u001b[38;5;34m100,480\u001b[0m │\n",
       "├─────────────────────────────────┼────────────────────────┼───────────────┤\n",
       "│ dense_1 (\u001b[38;5;33mDense\u001b[0m)                 │ (\u001b[38;5;45mNone\u001b[0m, \u001b[38;5;34m128\u001b[0m)            │        \u001b[38;5;34m16,512\u001b[0m │\n",
       "├─────────────────────────────────┼────────────────────────┼───────────────┤\n",
       "│ dense_2 (\u001b[38;5;33mDense\u001b[0m)                 │ (\u001b[38;5;45mNone\u001b[0m, \u001b[38;5;34m10\u001b[0m)             │         \u001b[38;5;34m1,290\u001b[0m │\n",
       "└─────────────────────────────────┴────────────────────────┴───────────────┘\n"
      ]
     },
     "metadata": {},
     "output_type": "display_data"
    },
    {
     "data": {
      "text/html": [
       "<pre style=\"white-space:pre;overflow-x:auto;line-height:normal;font-family:Menlo,'DejaVu Sans Mono',consolas,'Courier New',monospace\"><span style=\"font-weight: bold\"> Total params: </span><span style=\"color: #00af00; text-decoration-color: #00af00\">118,282</span> (462.04 KB)\n",
       "</pre>\n"
      ],
      "text/plain": [
       "\u001b[1m Total params: \u001b[0m\u001b[38;5;34m118,282\u001b[0m (462.04 KB)\n"
      ]
     },
     "metadata": {},
     "output_type": "display_data"
    },
    {
     "data": {
      "text/html": [
       "<pre style=\"white-space:pre;overflow-x:auto;line-height:normal;font-family:Menlo,'DejaVu Sans Mono',consolas,'Courier New',monospace\"><span style=\"font-weight: bold\"> Trainable params: </span><span style=\"color: #00af00; text-decoration-color: #00af00\">118,282</span> (462.04 KB)\n",
       "</pre>\n"
      ],
      "text/plain": [
       "\u001b[1m Trainable params: \u001b[0m\u001b[38;5;34m118,282\u001b[0m (462.04 KB)\n"
      ]
     },
     "metadata": {},
     "output_type": "display_data"
    },
    {
     "data": {
      "text/html": [
       "<pre style=\"white-space:pre;overflow-x:auto;line-height:normal;font-family:Menlo,'DejaVu Sans Mono',consolas,'Courier New',monospace\"><span style=\"font-weight: bold\"> Non-trainable params: </span><span style=\"color: #00af00; text-decoration-color: #00af00\">0</span> (0.00 B)\n",
       "</pre>\n"
      ],
      "text/plain": [
       "\u001b[1m Non-trainable params: \u001b[0m\u001b[38;5;34m0\u001b[0m (0.00 B)\n"
      ]
     },
     "metadata": {},
     "output_type": "display_data"
    }
   ],
   "source": [
    "model.compile(\n",
    "    optimizer='sgd', # Use sgd optimizer\n",
    "    loss='categorical_crossentropy', # Use categorical crossentropy loss function\n",
    "    metrics=['accuracy'] # Track accuracy as a metric\n",
    ")\n",
    "\n",
    "model.summary() # Display the model summary"
   ]
  },
  {
   "cell_type": "markdown",
   "id": "1e2118e6",
   "metadata": {},
   "source": [
    "# Task 6: Training the Model\n",
    "\n",
    "### Training the Model"
   ]
  },
  {
   "cell_type": "code",
   "execution_count": 15,
   "id": "d7bb39ed",
   "metadata": {},
   "outputs": [
    {
     "name": "stdout",
     "output_type": "stream",
     "text": [
      "Epoch 1/10\n",
      "\u001b[1m1875/1875\u001b[0m \u001b[32m━━━━━━━━━━━━━━━━━━━━\u001b[0m\u001b[37m\u001b[0m \u001b[1m5s\u001b[0m 2ms/step - accuracy: 0.8208 - loss: 0.6074 - val_accuracy: 0.9395 - val_loss: 0.2037\n",
      "Epoch 2/10\n",
      "\u001b[1m1875/1875\u001b[0m \u001b[32m━━━━━━━━━━━━━━━━━━━━\u001b[0m\u001b[37m\u001b[0m \u001b[1m4s\u001b[0m 2ms/step - accuracy: 0.9445 - loss: 0.1926 - val_accuracy: 0.9535 - val_loss: 0.1488\n",
      "Epoch 3/10\n",
      "\u001b[1m1875/1875\u001b[0m \u001b[32m━━━━━━━━━━━━━━━━━━━━\u001b[0m\u001b[37m\u001b[0m \u001b[1m4s\u001b[0m 2ms/step - accuracy: 0.9589 - loss: 0.1398 - val_accuracy: 0.9605 - val_loss: 0.1285\n",
      "Epoch 4/10\n",
      "\u001b[1m1875/1875\u001b[0m \u001b[32m━━━━━━━━━━━━━━━━━━━━\u001b[0m\u001b[37m\u001b[0m \u001b[1m4s\u001b[0m 2ms/step - accuracy: 0.9681 - loss: 0.1120 - val_accuracy: 0.9645 - val_loss: 0.1138\n",
      "Epoch 5/10\n",
      "\u001b[1m1875/1875\u001b[0m \u001b[32m━━━━━━━━━━━━━━━━━━━━\u001b[0m\u001b[37m\u001b[0m \u001b[1m3s\u001b[0m 2ms/step - accuracy: 0.9723 - loss: 0.0953 - val_accuracy: 0.9687 - val_loss: 0.1040\n",
      "Epoch 6/10\n",
      "\u001b[1m1875/1875\u001b[0m \u001b[32m━━━━━━━━━━━━━━━━━━━━\u001b[0m\u001b[37m\u001b[0m \u001b[1m3s\u001b[0m 2ms/step - accuracy: 0.9769 - loss: 0.0774 - val_accuracy: 0.9701 - val_loss: 0.0960\n",
      "Epoch 7/10\n",
      "\u001b[1m1875/1875\u001b[0m \u001b[32m━━━━━━━━━━━━━━━━━━━━\u001b[0m\u001b[37m\u001b[0m \u001b[1m3s\u001b[0m 2ms/step - accuracy: 0.9805 - loss: 0.0697 - val_accuracy: 0.9715 - val_loss: 0.0927\n",
      "Epoch 8/10\n",
      "\u001b[1m1875/1875\u001b[0m \u001b[32m━━━━━━━━━━━━━━━━━━━━\u001b[0m\u001b[37m\u001b[0m \u001b[1m4s\u001b[0m 2ms/step - accuracy: 0.9814 - loss: 0.0637 - val_accuracy: 0.9717 - val_loss: 0.0895\n",
      "Epoch 9/10\n",
      "\u001b[1m1875/1875\u001b[0m \u001b[32m━━━━━━━━━━━━━━━━━━━━\u001b[0m\u001b[37m\u001b[0m \u001b[1m3s\u001b[0m 2ms/step - accuracy: 0.9853 - loss: 0.0530 - val_accuracy: 0.9744 - val_loss: 0.0872\n",
      "Epoch 10/10\n",
      "\u001b[1m1875/1875\u001b[0m \u001b[32m━━━━━━━━━━━━━━━━━━━━\u001b[0m\u001b[37m\u001b[0m \u001b[1m3s\u001b[0m 2ms/step - accuracy: 0.9863 - loss: 0.0484 - val_accuracy: 0.9748 - val_loss: 0.0833\n"
     ]
    },
    {
     "data": {
      "text/plain": [
       "<keras.src.callbacks.history.History at 0x28dee3b67d0>"
      ]
     },
     "execution_count": 15,
     "metadata": {},
     "output_type": "execute_result"
    }
   ],
   "source": [
    "model.fit(\n",
    "    x_train_normalized, # Training data\n",
    "    y_train_encoded, # Training labels\n",
    "    epochs=10, # Number of epochs to train\n",
    "    batch_size=32, # Batch size for training\n",
    "    validation_data=(x_test_normalized, y_test_encoded) # Validation data\n",
    ")"
   ]
  },
  {
   "cell_type": "markdown",
   "id": "8987827f",
   "metadata": {},
   "source": [
    "### Evaluating the Model"
   ]
  },
  {
   "cell_type": "code",
   "execution_count": 16,
   "id": "5ced40af",
   "metadata": {},
   "outputs": [
    {
     "name": "stdout",
     "output_type": "stream",
     "text": [
      "\u001b[1m313/313\u001b[0m \u001b[32m━━━━━━━━━━━━━━━━━━━━\u001b[0m\u001b[37m\u001b[0m \u001b[1m0s\u001b[0m 1ms/step - accuracy: 0.9707 - loss: 0.0983\n",
      "Test loss: 8.33, Test accuracy: 97.48\n"
     ]
    }
   ],
   "source": [
    "loss, accuracy = model.evaluate(\n",
    "    x_test_normalized, # Testing data\n",
    "    y_test_encoded # Testing labels\n",
    ")\n",
    "\n",
    "print(f'Test loss: {loss*100:.2f}, Test accuracy: {accuracy*100:.2f}') # Display the test loss and accuracy"
   ]
  },
  {
   "cell_type": "markdown",
   "id": "51b025cd",
   "metadata": {},
   "source": [
    "# Task 7: Predictions\n",
    "\n",
    "### Predictions on Test Set"
   ]
  },
  {
   "cell_type": "code",
   "execution_count": 17,
   "id": "18f83257",
   "metadata": {},
   "outputs": [
    {
     "name": "stdout",
     "output_type": "stream",
     "text": [
      "\u001b[1m313/313\u001b[0m \u001b[32m━━━━━━━━━━━━━━━━━━━━\u001b[0m\u001b[37m\u001b[0m \u001b[1m0s\u001b[0m 990us/step\n",
      "Predictions shape: (10000, 10)\n"
     ]
    }
   ],
   "source": [
    "predictions = model.predict(x_test_normalized) # Make predictions on the test data\n",
    "print('Predictions shape:', predictions.shape) # Display the shape of the predictions"
   ]
  },
  {
   "cell_type": "markdown",
   "id": "8f73d2f3",
   "metadata": {},
   "source": [
    "### Plotting the Results"
   ]
  },
  {
   "cell_type": "code",
   "execution_count": 18,
   "id": "dcdc76f5",
   "metadata": {},
   "outputs": [
    {
     "data": {
      "image/png": "[encoded data removed]",
      "text/plain": [
       "<Figure size 1200x1200 with 25 Axes>"
      ]
     },
     "metadata": {},
     "output_type": "display_data"
    }
   ],
   "source": [
    "plt.figure(figsize=(12,12)) # Set the figure size for displaying multiple images\n",
    "\n",
    "for i in range(25): # Loop to display 25 images\n",
    "    plt.subplot(5, 5, i + 1) # Create a subplot for each image\n",
    "    plt.xticks([]) # Hide x-axis ticks\n",
    "    plt.yticks([]) # Hide y-axis ticks\n",
    "    plt.grid(False) # Disable grid\n",
    "\n",
    "    pred= np.argmax(predictions[i]) # Get the predicted label\n",
    "    gt= y_test[i] # Get the true label\n",
    "\n",
    "    color = 'green' if pred == gt else 'red' # Set color based on whether prediction is correct\n",
    "\n",
    "    plt.xlabel(f'Index: {i}, Pred: {pred}, True: {gt}', color=color) # Display predicted and true labels\n",
    "    plt.imshow(x_test[i], cmap='binary') # Display the original image\n",
    "\n",
    "\n",
    "plt.show() # Show the plot with all images"
   ]
  }
 ],
 "metadata": {
  "kernelspec": {
   "display_name": "venv",
   "language": "python",
   "name": "python3"
  },
  "language_info": {
   "codemirror_mode": {
    "name": "ipython",
    "version": 3
   },
   "file_extension": ".py",
   "mimetype": "text/x-python",
   "name": "python",
   "nbconvert_exporter": "python",
   "pygments_lexer": "ipython3",
   "version": "3.10.11"
  }
 },
 "nbformat": 4,
 "nbformat_minor": 5
}
